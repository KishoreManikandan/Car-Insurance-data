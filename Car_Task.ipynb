{
 "cells": [
  {
   "cell_type": "markdown",
   "id": "376be3c5",
   "metadata": {},
   "source": [
    "## Importing necessary Libraries"
   ]
  },
  {
   "cell_type": "code",
   "execution_count": 1,
   "id": "4c43a665",
   "metadata": {
    "ExecuteTime": {
     "end_time": "2024-06-11T17:28:31.002683Z",
     "start_time": "2024-06-11T17:28:24.132814Z"
    }
   },
   "outputs": [],
   "source": [
    "# Dataframe manupilation and analysis libraries\n",
    "import pandas as pd\n",
    "import numpy as np\n",
    "\n",
    "# Data visualisation libraries\n",
    "import matplotlib.pyplot as plt\n",
    "import seaborn as sns\n",
    "\n",
    "from sklearn.preprocessing import LabelEncoder\n",
    "from sklearn.model_selection import train_test_split,cross_val_score\n",
    "from sklearn.metrics import r2_score\n",
    "\n",
    "# Machine learning models\n",
    "from sklearn.tree import DecisionTreeRegressor\n",
    "from sklearn.ensemble import RandomForestRegressor\n",
    "from sklearn.linear_model import LinearRegression  \n",
    "from sklearn.neighbors import KNeighborsRegressor\n",
    "from xgboost import XGBRegressor\n",
    "from sklearn.ensemble import GradientBoostingRegressor"
   ]
  },
  {
   "cell_type": "markdown",
   "id": "dbe5d678",
   "metadata": {},
   "source": [
    "## Loading the DataFrame"
   ]
  },
  {
   "cell_type": "code",
   "execution_count": 2,
   "id": "55082c81",
   "metadata": {
    "ExecuteTime": {
     "end_time": "2024-06-11T17:33:56.007592Z",
     "start_time": "2024-06-11T17:28:31.008462Z"
    }
   },
   "outputs": [],
   "source": [
    "df = pd.read_excel('car_data.xlsx')"
   ]
  },
  {
   "cell_type": "code",
   "execution_count": 3,
   "id": "a456bbcb",
   "metadata": {
    "ExecuteTime": {
     "end_time": "2024-06-11T17:33:56.270907Z",
     "start_time": "2024-06-11T17:33:56.015561Z"
    }
   },
   "outputs": [
    {
     "data": {
      "text/html": [
       "<div>\n",
       "<style scoped>\n",
       "    .dataframe tbody tr th:only-of-type {\n",
       "        vertical-align: middle;\n",
       "    }\n",
       "\n",
       "    .dataframe tbody tr th {\n",
       "        vertical-align: top;\n",
       "    }\n",
       "\n",
       "    .dataframe thead th {\n",
       "        text-align: right;\n",
       "    }\n",
       "</style>\n",
       "<table border=\"1\" class=\"dataframe\">\n",
       "  <thead>\n",
       "    <tr style=\"text-align: right;\">\n",
       "      <th></th>\n",
       "      <th>POLICY_ID</th>\n",
       "      <th>PRODUCT_CODE</th>\n",
       "      <th>INCEPTION_DATE</th>\n",
       "      <th>EXPIRY_DATE</th>\n",
       "      <th>CATEGORY</th>\n",
       "      <th>CHANNEL</th>\n",
       "      <th>SUB_CHANNEL</th>\n",
       "      <th>BUSINESS_TYPE</th>\n",
       "      <th>VEHICLE_CC</th>\n",
       "      <th>VEHICLE_AGE</th>\n",
       "      <th>...</th>\n",
       "      <th>MODELCLASSIFICATION</th>\n",
       "      <th>FUELTYPE</th>\n",
       "      <th>BREAKIN_INSURANCE_FLAG</th>\n",
       "      <th>STATE</th>\n",
       "      <th>CITY</th>\n",
       "      <th>AIDV</th>\n",
       "      <th>IDV</th>\n",
       "      <th>Nill_Dep_Flag</th>\n",
       "      <th>NCB_Flag</th>\n",
       "      <th>Total_Claims</th>\n",
       "    </tr>\n",
       "  </thead>\n",
       "  <tbody>\n",
       "    <tr>\n",
       "      <th>0</th>\n",
       "      <td>ID1</td>\n",
       "      <td>VPC</td>\n",
       "      <td>2018-10-29</td>\n",
       "      <td>2019-10-28</td>\n",
       "      <td>Comprehensive</td>\n",
       "      <td>RETAIL AGENCY</td>\n",
       "      <td>AGENCY</td>\n",
       "      <td>Roll-Over</td>\n",
       "      <td>2393</td>\n",
       "      <td>2</td>\n",
       "      <td>...</td>\n",
       "      <td>OTHERS</td>\n",
       "      <td>DIESEL</td>\n",
       "      <td>NO</td>\n",
       "      <td>MAHARASHTRA</td>\n",
       "      <td>MUMBAI</td>\n",
       "      <td>1434960.0</td>\n",
       "      <td>1434960.0</td>\n",
       "      <td>YES</td>\n",
       "      <td>NO</td>\n",
       "      <td>1</td>\n",
       "    </tr>\n",
       "    <tr>\n",
       "      <th>1</th>\n",
       "      <td>ID2</td>\n",
       "      <td>VPC</td>\n",
       "      <td>2018-05-08</td>\n",
       "      <td>2018-05-31</td>\n",
       "      <td>Comprehensive</td>\n",
       "      <td>BRANCH BUSINESS</td>\n",
       "      <td>BROKER</td>\n",
       "      <td>Renewal</td>\n",
       "      <td>796</td>\n",
       "      <td>5</td>\n",
       "      <td>...</td>\n",
       "      <td>OTHERS</td>\n",
       "      <td>PETROL</td>\n",
       "      <td>NO</td>\n",
       "      <td>TAMILNADU</td>\n",
       "      <td>CHENNAI</td>\n",
       "      <td>170000.0</td>\n",
       "      <td>170000.0</td>\n",
       "      <td>NO</td>\n",
       "      <td>YES</td>\n",
       "      <td>0</td>\n",
       "    </tr>\n",
       "    <tr>\n",
       "      <th>2</th>\n",
       "      <td>ID3</td>\n",
       "      <td>VPC</td>\n",
       "      <td>2018-05-14</td>\n",
       "      <td>2019-05-13</td>\n",
       "      <td>Comprehensive</td>\n",
       "      <td>BRANCH BUSINESS</td>\n",
       "      <td>BROKER-OEM</td>\n",
       "      <td>New</td>\n",
       "      <td>1461</td>\n",
       "      <td>0</td>\n",
       "      <td>...</td>\n",
       "      <td>OTHERS</td>\n",
       "      <td>DIESEL</td>\n",
       "      <td>NO</td>\n",
       "      <td>MAHARASHTRA</td>\n",
       "      <td>PUNE</td>\n",
       "      <td>1261452.0</td>\n",
       "      <td>1261452.0</td>\n",
       "      <td>NO</td>\n",
       "      <td>NO</td>\n",
       "      <td>0</td>\n",
       "    </tr>\n",
       "    <tr>\n",
       "      <th>3</th>\n",
       "      <td>ID4</td>\n",
       "      <td>VPC</td>\n",
       "      <td>2018-06-01</td>\n",
       "      <td>2019-05-31</td>\n",
       "      <td>Comprehensive</td>\n",
       "      <td>BRANCH BUSINESS</td>\n",
       "      <td>BROKER-OEM</td>\n",
       "      <td>Renewal</td>\n",
       "      <td>2523</td>\n",
       "      <td>6</td>\n",
       "      <td>...</td>\n",
       "      <td>OTHERS</td>\n",
       "      <td>DIESEL</td>\n",
       "      <td>NO</td>\n",
       "      <td>KERALA</td>\n",
       "      <td>ERNAKULAM</td>\n",
       "      <td>350000.0</td>\n",
       "      <td>350000.0</td>\n",
       "      <td>NO</td>\n",
       "      <td>YES</td>\n",
       "      <td>0</td>\n",
       "    </tr>\n",
       "    <tr>\n",
       "      <th>4</th>\n",
       "      <td>ID5</td>\n",
       "      <td>VPC</td>\n",
       "      <td>2018-06-01</td>\n",
       "      <td>2019-05-31</td>\n",
       "      <td>Comprehensive</td>\n",
       "      <td>BRANCH BUSINESS</td>\n",
       "      <td>BROKER</td>\n",
       "      <td>Renewal</td>\n",
       "      <td>1197</td>\n",
       "      <td>8</td>\n",
       "      <td>...</td>\n",
       "      <td>OTHERS</td>\n",
       "      <td>PETROL</td>\n",
       "      <td>NO</td>\n",
       "      <td>TAMILNADU</td>\n",
       "      <td>CHENNAI</td>\n",
       "      <td>213216.0</td>\n",
       "      <td>213216.0</td>\n",
       "      <td>NO</td>\n",
       "      <td>NO</td>\n",
       "      <td>0</td>\n",
       "    </tr>\n",
       "  </tbody>\n",
       "</table>\n",
       "<p>5 rows × 22 columns</p>\n",
       "</div>"
      ],
      "text/plain": [
       "  POLICY_ID PRODUCT_CODE INCEPTION_DATE EXPIRY_DATE       CATEGORY  \\\n",
       "0       ID1          VPC     2018-10-29  2019-10-28  Comprehensive   \n",
       "1       ID2          VPC     2018-05-08  2018-05-31  Comprehensive   \n",
       "2       ID3          VPC     2018-05-14  2019-05-13  Comprehensive   \n",
       "3       ID4          VPC     2018-06-01  2019-05-31  Comprehensive   \n",
       "4       ID5          VPC     2018-06-01  2019-05-31  Comprehensive   \n",
       "\n",
       "           CHANNEL SUB_CHANNEL BUSINESS_TYPE  VEHICLE_CC  VEHICLE_AGE  ...  \\\n",
       "0    RETAIL AGENCY      AGENCY     Roll-Over        2393            2  ...   \n",
       "1  BRANCH BUSINESS      BROKER       Renewal         796            5  ...   \n",
       "2  BRANCH BUSINESS  BROKER-OEM           New        1461            0  ...   \n",
       "3  BRANCH BUSINESS  BROKER-OEM       Renewal        2523            6  ...   \n",
       "4  BRANCH BUSINESS      BROKER       Renewal        1197            8  ...   \n",
       "\n",
       "  MODELCLASSIFICATION FUELTYPE BREAKIN_INSURANCE_FLAG        STATE       CITY  \\\n",
       "0              OTHERS   DIESEL                     NO  MAHARASHTRA     MUMBAI   \n",
       "1              OTHERS   PETROL                     NO    TAMILNADU    CHENNAI   \n",
       "2              OTHERS   DIESEL                     NO  MAHARASHTRA       PUNE   \n",
       "3              OTHERS   DIESEL                     NO       KERALA  ERNAKULAM   \n",
       "4              OTHERS   PETROL                     NO    TAMILNADU    CHENNAI   \n",
       "\n",
       "        AIDV        IDV  Nill_Dep_Flag  NCB_Flag Total_Claims  \n",
       "0  1434960.0  1434960.0            YES        NO            1  \n",
       "1   170000.0   170000.0             NO       YES            0  \n",
       "2  1261452.0  1261452.0             NO        NO            0  \n",
       "3   350000.0   350000.0             NO       YES            0  \n",
       "4   213216.0   213216.0             NO        NO            0  \n",
       "\n",
       "[5 rows x 22 columns]"
      ]
     },
     "execution_count": 3,
     "metadata": {},
     "output_type": "execute_result"
    }
   ],
   "source": [
    "# To view first 5 rows\n",
    "df.head()"
   ]
  },
  {
   "cell_type": "code",
   "execution_count": 4,
   "id": "85146fe6",
   "metadata": {
    "ExecuteTime": {
     "end_time": "2024-06-11T17:33:56.317691Z",
     "start_time": "2024-06-11T17:33:56.273838Z"
    },
    "scrolled": true
   },
   "outputs": [
    {
     "data": {
      "text/html": [
       "<div>\n",
       "<style scoped>\n",
       "    .dataframe tbody tr th:only-of-type {\n",
       "        vertical-align: middle;\n",
       "    }\n",
       "\n",
       "    .dataframe tbody tr th {\n",
       "        vertical-align: top;\n",
       "    }\n",
       "\n",
       "    .dataframe thead th {\n",
       "        text-align: right;\n",
       "    }\n",
       "</style>\n",
       "<table border=\"1\" class=\"dataframe\">\n",
       "  <thead>\n",
       "    <tr style=\"text-align: right;\">\n",
       "      <th></th>\n",
       "      <th>POLICY_ID</th>\n",
       "      <th>PRODUCT_CODE</th>\n",
       "      <th>INCEPTION_DATE</th>\n",
       "      <th>EXPIRY_DATE</th>\n",
       "      <th>CATEGORY</th>\n",
       "      <th>CHANNEL</th>\n",
       "      <th>SUB_CHANNEL</th>\n",
       "      <th>BUSINESS_TYPE</th>\n",
       "      <th>VEHICLE_CC</th>\n",
       "      <th>VEHICLE_AGE</th>\n",
       "      <th>...</th>\n",
       "      <th>MODELCLASSIFICATION</th>\n",
       "      <th>FUELTYPE</th>\n",
       "      <th>BREAKIN_INSURANCE_FLAG</th>\n",
       "      <th>STATE</th>\n",
       "      <th>CITY</th>\n",
       "      <th>AIDV</th>\n",
       "      <th>IDV</th>\n",
       "      <th>Nill_Dep_Flag</th>\n",
       "      <th>NCB_Flag</th>\n",
       "      <th>Total_Claims</th>\n",
       "    </tr>\n",
       "  </thead>\n",
       "  <tbody>\n",
       "    <tr>\n",
       "      <th>818182</th>\n",
       "      <td>ID818183</td>\n",
       "      <td>VPC</td>\n",
       "      <td>2018-11-30</td>\n",
       "      <td>2019-11-29</td>\n",
       "      <td>Comprehensive</td>\n",
       "      <td>RETAIL AGENCY</td>\n",
       "      <td>AGENCY</td>\n",
       "      <td>New</td>\n",
       "      <td>6498</td>\n",
       "      <td>1</td>\n",
       "      <td>...</td>\n",
       "      <td>HighEnd</td>\n",
       "      <td>PETROL</td>\n",
       "      <td>NO</td>\n",
       "      <td>AP&amp;TELANGANA</td>\n",
       "      <td>HYDERABAD</td>\n",
       "      <td>45828000.0</td>\n",
       "      <td>45828000.0</td>\n",
       "      <td>YES</td>\n",
       "      <td>YES</td>\n",
       "      <td>0</td>\n",
       "    </tr>\n",
       "    <tr>\n",
       "      <th>818183</th>\n",
       "      <td>ID818184</td>\n",
       "      <td>VPC</td>\n",
       "      <td>2018-04-07</td>\n",
       "      <td>2019-04-06</td>\n",
       "      <td>Comprehensive</td>\n",
       "      <td>BRANCH BUSINESS</td>\n",
       "      <td>DEALER</td>\n",
       "      <td>New</td>\n",
       "      <td>3996</td>\n",
       "      <td>0</td>\n",
       "      <td>...</td>\n",
       "      <td>HighEnd</td>\n",
       "      <td>PETROL</td>\n",
       "      <td>NO</td>\n",
       "      <td>MAHARASHTRA</td>\n",
       "      <td>MUMBAI</td>\n",
       "      <td>29341492.0</td>\n",
       "      <td>29341492.0</td>\n",
       "      <td>YES</td>\n",
       "      <td>NO</td>\n",
       "      <td>0</td>\n",
       "    </tr>\n",
       "    <tr>\n",
       "      <th>818184</th>\n",
       "      <td>ID818185</td>\n",
       "      <td>VPC</td>\n",
       "      <td>2018-06-13</td>\n",
       "      <td>2019-06-12</td>\n",
       "      <td>Comprehensive</td>\n",
       "      <td>AFFINITY</td>\n",
       "      <td>BANK-SCB</td>\n",
       "      <td>Roll-Over</td>\n",
       "      <td>6592</td>\n",
       "      <td>2</td>\n",
       "      <td>...</td>\n",
       "      <td>HighEnd</td>\n",
       "      <td>PETROL</td>\n",
       "      <td>YES</td>\n",
       "      <td>TAMILNADU</td>\n",
       "      <td>CHENNAI</td>\n",
       "      <td>37800000.0</td>\n",
       "      <td>37800000.0</td>\n",
       "      <td>YES</td>\n",
       "      <td>YES</td>\n",
       "      <td>0</td>\n",
       "    </tr>\n",
       "    <tr>\n",
       "      <th>818185</th>\n",
       "      <td>ID818186</td>\n",
       "      <td>VPC</td>\n",
       "      <td>2018-04-17</td>\n",
       "      <td>2019-04-16</td>\n",
       "      <td>Comprehensive</td>\n",
       "      <td>BRANCH AGENCY</td>\n",
       "      <td>DSA</td>\n",
       "      <td>Renewal</td>\n",
       "      <td>4367</td>\n",
       "      <td>3</td>\n",
       "      <td>...</td>\n",
       "      <td>HighEnd</td>\n",
       "      <td>DIESEL</td>\n",
       "      <td>NO</td>\n",
       "      <td>TAMILNADU</td>\n",
       "      <td>CHENNAI</td>\n",
       "      <td>20115000.0</td>\n",
       "      <td>20115000.0</td>\n",
       "      <td>YES</td>\n",
       "      <td>YES</td>\n",
       "      <td>0</td>\n",
       "    </tr>\n",
       "    <tr>\n",
       "      <th>818186</th>\n",
       "      <td>ID818187</td>\n",
       "      <td>VPB</td>\n",
       "      <td>2018-09-24</td>\n",
       "      <td>2019-09-23</td>\n",
       "      <td>Comprehensive</td>\n",
       "      <td>RETAIL AGENCY</td>\n",
       "      <td>AGENCY</td>\n",
       "      <td>New</td>\n",
       "      <td>3996</td>\n",
       "      <td>0</td>\n",
       "      <td>...</td>\n",
       "      <td>HighEnd</td>\n",
       "      <td>PETROL</td>\n",
       "      <td>NO</td>\n",
       "      <td>PONDICHERRY</td>\n",
       "      <td>PONDICHERRY</td>\n",
       "      <td>46489464.0</td>\n",
       "      <td>46489464.0</td>\n",
       "      <td>YES</td>\n",
       "      <td>NO</td>\n",
       "      <td>0</td>\n",
       "    </tr>\n",
       "  </tbody>\n",
       "</table>\n",
       "<p>5 rows × 22 columns</p>\n",
       "</div>"
      ],
      "text/plain": [
       "       POLICY_ID PRODUCT_CODE INCEPTION_DATE EXPIRY_DATE       CATEGORY  \\\n",
       "818182  ID818183          VPC     2018-11-30  2019-11-29  Comprehensive   \n",
       "818183  ID818184          VPC     2018-04-07  2019-04-06  Comprehensive   \n",
       "818184  ID818185          VPC     2018-06-13  2019-06-12  Comprehensive   \n",
       "818185  ID818186          VPC     2018-04-17  2019-04-16  Comprehensive   \n",
       "818186  ID818187          VPB     2018-09-24  2019-09-23  Comprehensive   \n",
       "\n",
       "                CHANNEL SUB_CHANNEL BUSINESS_TYPE  VEHICLE_CC  VEHICLE_AGE  \\\n",
       "818182    RETAIL AGENCY      AGENCY           New        6498            1   \n",
       "818183  BRANCH BUSINESS      DEALER           New        3996            0   \n",
       "818184         AFFINITY    BANK-SCB     Roll-Over        6592            2   \n",
       "818185    BRANCH AGENCY         DSA       Renewal        4367            3   \n",
       "818186    RETAIL AGENCY      AGENCY           New        3996            0   \n",
       "\n",
       "        ... MODELCLASSIFICATION FUELTYPE BREAKIN_INSURANCE_FLAG         STATE  \\\n",
       "818182  ...             HighEnd   PETROL                     NO  AP&TELANGANA   \n",
       "818183  ...             HighEnd   PETROL                     NO   MAHARASHTRA   \n",
       "818184  ...             HighEnd   PETROL                    YES     TAMILNADU   \n",
       "818185  ...             HighEnd   DIESEL                     NO     TAMILNADU   \n",
       "818186  ...             HighEnd   PETROL                     NO   PONDICHERRY   \n",
       "\n",
       "               CITY        AIDV         IDV  Nill_Dep_Flag  NCB_Flag  \\\n",
       "818182    HYDERABAD  45828000.0  45828000.0            YES       YES   \n",
       "818183       MUMBAI  29341492.0  29341492.0            YES        NO   \n",
       "818184      CHENNAI  37800000.0  37800000.0            YES       YES   \n",
       "818185      CHENNAI  20115000.0  20115000.0            YES       YES   \n",
       "818186  PONDICHERRY  46489464.0  46489464.0            YES        NO   \n",
       "\n",
       "       Total_Claims  \n",
       "818182            0  \n",
       "818183            0  \n",
       "818184            0  \n",
       "818185            0  \n",
       "818186            0  \n",
       "\n",
       "[5 rows x 22 columns]"
      ]
     },
     "execution_count": 4,
     "metadata": {},
     "output_type": "execute_result"
    }
   ],
   "source": [
    "# To view last 5 rows\n",
    "df.tail()"
   ]
  },
  {
   "cell_type": "markdown",
   "id": "53a98caa",
   "metadata": {},
   "source": [
    "### Understanding the Data"
   ]
  },
  {
   "cell_type": "code",
   "execution_count": 5,
   "id": "b9e70b83",
   "metadata": {
    "ExecuteTime": {
     "end_time": "2024-06-11T17:33:56.332813Z",
     "start_time": "2024-06-11T17:33:56.320717Z"
    },
    "scrolled": true
   },
   "outputs": [
    {
     "data": {
      "text/plain": [
       "Index(['POLICY_ID', 'PRODUCT_CODE', 'INCEPTION_DATE', 'EXPIRY_DATE',\n",
       "       'CATEGORY', 'CHANNEL', 'SUB_CHANNEL', 'BUSINESS_TYPE', 'VEHICLE_CC',\n",
       "       'VEHICLE_AGE', 'MAKE', 'MODELGROUP', 'MODELCLASSIFICATION', 'FUELTYPE',\n",
       "       'BREAKIN_INSURANCE_FLAG', 'STATE', 'CITY', 'AIDV', 'IDV',\n",
       "       'Nill_Dep_Flag', 'NCB_Flag', 'Total_Claims'],\n",
       "      dtype='object')"
      ]
     },
     "execution_count": 5,
     "metadata": {},
     "output_type": "execute_result"
    }
   ],
   "source": [
    "df.columns"
   ]
  },
  {
   "cell_type": "code",
   "execution_count": 6,
   "id": "b8cf657a",
   "metadata": {
    "ExecuteTime": {
     "end_time": "2024-06-11T17:33:56.347770Z",
     "start_time": "2024-06-11T17:33:56.335817Z"
    }
   },
   "outputs": [
    {
     "data": {
      "text/plain": [
       "(818187, 22)"
      ]
     },
     "execution_count": 6,
     "metadata": {},
     "output_type": "execute_result"
    }
   ],
   "source": [
    "df.shape"
   ]
  },
  {
   "cell_type": "markdown",
   "id": "cfc8ef95",
   "metadata": {
    "ExecuteTime": {
     "end_time": "2024-06-06T19:47:06.601385Z",
     "start_time": "2024-06-06T19:47:06.583531Z"
    }
   },
   "source": [
    "## Exploratory Data Analysis"
   ]
  },
  {
   "cell_type": "code",
   "execution_count": 7,
   "id": "6c953d9e",
   "metadata": {
    "ExecuteTime": {
     "end_time": "2024-06-11T17:33:59.291547Z",
     "start_time": "2024-06-11T17:33:56.351901Z"
    }
   },
   "outputs": [
    {
     "name": "stdout",
     "output_type": "stream",
     "text": [
      "<class 'pandas.core.frame.DataFrame'>\n",
      "RangeIndex: 818187 entries, 0 to 818186\n",
      "Data columns (total 22 columns):\n",
      " #   Column                  Non-Null Count   Dtype         \n",
      "---  ------                  --------------   -----         \n",
      " 0   POLICY_ID               818187 non-null  object        \n",
      " 1   PRODUCT_CODE            818187 non-null  object        \n",
      " 2   INCEPTION_DATE          818187 non-null  datetime64[ns]\n",
      " 3   EXPIRY_DATE             818187 non-null  datetime64[ns]\n",
      " 4   CATEGORY                818187 non-null  object        \n",
      " 5   CHANNEL                 818187 non-null  object        \n",
      " 6   SUB_CHANNEL             818187 non-null  object        \n",
      " 7   BUSINESS_TYPE           818187 non-null  object        \n",
      " 8   VEHICLE_CC              818187 non-null  int64         \n",
      " 9   VEHICLE_AGE             818187 non-null  int64         \n",
      " 10  MAKE                    818187 non-null  object        \n",
      " 11  MODELGROUP              818187 non-null  object        \n",
      " 12  MODELCLASSIFICATION     818187 non-null  object        \n",
      " 13  FUELTYPE                818187 non-null  object        \n",
      " 14  BREAKIN_INSURANCE_FLAG  818187 non-null  object        \n",
      " 15  STATE                   818187 non-null  object        \n",
      " 16  CITY                    818187 non-null  object        \n",
      " 17  AIDV                    818187 non-null  float64       \n",
      " 18  IDV                     818187 non-null  float64       \n",
      " 19  Nill_Dep_Flag           818187 non-null  object        \n",
      " 20  NCB_Flag                818187 non-null  object        \n",
      " 21  Total_Claims            818187 non-null  int64         \n",
      "dtypes: datetime64[ns](2), float64(2), int64(3), object(15)\n",
      "memory usage: 137.3+ MB\n"
     ]
    }
   ],
   "source": [
    "df.info()"
   ]
  },
  {
   "cell_type": "markdown",
   "id": "3ce968fe",
   "metadata": {},
   "source": [
    "Analysis:\n",
    "\n",
    "- There are more than 8 lakh records(rows) in the dataset.\n",
    "- There are 22 columns/features in the dataset"
   ]
  },
  {
   "cell_type": "code",
   "execution_count": 8,
   "id": "c46ab96a",
   "metadata": {
    "ExecuteTime": {
     "end_time": "2024-06-11T17:34:01.687481Z",
     "start_time": "2024-06-11T17:33:59.294536Z"
    },
    "scrolled": true
   },
   "outputs": [
    {
     "data": {
      "text/plain": [
       "POLICY_ID                 0\n",
       "PRODUCT_CODE              0\n",
       "INCEPTION_DATE            0\n",
       "EXPIRY_DATE               0\n",
       "CATEGORY                  0\n",
       "CHANNEL                   0\n",
       "SUB_CHANNEL               0\n",
       "BUSINESS_TYPE             0\n",
       "VEHICLE_CC                0\n",
       "VEHICLE_AGE               0\n",
       "MAKE                      0\n",
       "MODELGROUP                0\n",
       "MODELCLASSIFICATION       0\n",
       "FUELTYPE                  0\n",
       "BREAKIN_INSURANCE_FLAG    0\n",
       "STATE                     0\n",
       "CITY                      0\n",
       "AIDV                      0\n",
       "IDV                       0\n",
       "Nill_Dep_Flag             0\n",
       "NCB_Flag                  0\n",
       "Total_Claims              0\n",
       "dtype: int64"
      ]
     },
     "execution_count": 8,
     "metadata": {},
     "output_type": "execute_result"
    }
   ],
   "source": [
    "df.isnull().sum()"
   ]
  },
  {
   "cell_type": "markdown",
   "id": "00e4112e",
   "metadata": {},
   "source": [
    "Analysis:\n",
    "\n",
    "- There is no null values in the dataset.\n",
    "- There is no need for missing value imputation"
   ]
  },
  {
   "cell_type": "markdown",
   "id": "d752fe24",
   "metadata": {},
   "source": [
    "## Descriptive Analysis"
   ]
  },
  {
   "cell_type": "code",
   "execution_count": 9,
   "id": "0e156b00",
   "metadata": {
    "ExecuteTime": {
     "end_time": "2024-06-11T17:34:01.867628Z",
     "start_time": "2024-06-11T17:34:01.693220Z"
    },
    "scrolled": false
   },
   "outputs": [
    {
     "data": {
      "text/html": [
       "<div>\n",
       "<style scoped>\n",
       "    .dataframe tbody tr th:only-of-type {\n",
       "        vertical-align: middle;\n",
       "    }\n",
       "\n",
       "    .dataframe tbody tr th {\n",
       "        vertical-align: top;\n",
       "    }\n",
       "\n",
       "    .dataframe thead th {\n",
       "        text-align: right;\n",
       "    }\n",
       "</style>\n",
       "<table border=\"1\" class=\"dataframe\">\n",
       "  <thead>\n",
       "    <tr style=\"text-align: right;\">\n",
       "      <th></th>\n",
       "      <th>VEHICLE_CC</th>\n",
       "      <th>VEHICLE_AGE</th>\n",
       "      <th>AIDV</th>\n",
       "      <th>IDV</th>\n",
       "      <th>Total_Claims</th>\n",
       "    </tr>\n",
       "  </thead>\n",
       "  <tbody>\n",
       "    <tr>\n",
       "      <th>count</th>\n",
       "      <td>818187.000000</td>\n",
       "      <td>818187.000000</td>\n",
       "      <td>8.181870e+05</td>\n",
       "      <td>8.181870e+05</td>\n",
       "      <td>818187.000000</td>\n",
       "    </tr>\n",
       "    <tr>\n",
       "      <th>mean</th>\n",
       "      <td>1219.019874</td>\n",
       "      <td>3.678690</td>\n",
       "      <td>4.529324e+05</td>\n",
       "      <td>4.528427e+05</td>\n",
       "      <td>0.263238</td>\n",
       "    </tr>\n",
       "    <tr>\n",
       "      <th>std</th>\n",
       "      <td>368.269055</td>\n",
       "      <td>3.468776</td>\n",
       "      <td>5.108498e+05</td>\n",
       "      <td>5.116962e+05</td>\n",
       "      <td>0.581261</td>\n",
       "    </tr>\n",
       "    <tr>\n",
       "      <th>min</th>\n",
       "      <td>0.000000</td>\n",
       "      <td>0.000000</td>\n",
       "      <td>0.000000e+00</td>\n",
       "      <td>0.000000e+00</td>\n",
       "      <td>0.000000</td>\n",
       "    </tr>\n",
       "    <tr>\n",
       "      <th>25%</th>\n",
       "      <td>998.000000</td>\n",
       "      <td>1.000000</td>\n",
       "      <td>2.134350e+05</td>\n",
       "      <td>2.133151e+05</td>\n",
       "      <td>0.000000</td>\n",
       "    </tr>\n",
       "    <tr>\n",
       "      <th>50%</th>\n",
       "      <td>1197.000000</td>\n",
       "      <td>3.000000</td>\n",
       "      <td>3.561160e+05</td>\n",
       "      <td>3.560120e+05</td>\n",
       "      <td>0.000000</td>\n",
       "    </tr>\n",
       "    <tr>\n",
       "      <th>75%</th>\n",
       "      <td>1248.000000</td>\n",
       "      <td>6.000000</td>\n",
       "      <td>5.827500e+05</td>\n",
       "      <td>5.825380e+05</td>\n",
       "      <td>0.000000</td>\n",
       "    </tr>\n",
       "    <tr>\n",
       "      <th>max</th>\n",
       "      <td>6592.000000</td>\n",
       "      <td>32.000000</td>\n",
       "      <td>7.099248e+07</td>\n",
       "      <td>7.099248e+07</td>\n",
       "      <td>13.000000</td>\n",
       "    </tr>\n",
       "  </tbody>\n",
       "</table>\n",
       "</div>"
      ],
      "text/plain": [
       "          VEHICLE_CC    VEHICLE_AGE          AIDV           IDV   Total_Claims\n",
       "count  818187.000000  818187.000000  8.181870e+05  8.181870e+05  818187.000000\n",
       "mean     1219.019874       3.678690  4.529324e+05  4.528427e+05       0.263238\n",
       "std       368.269055       3.468776  5.108498e+05  5.116962e+05       0.581261\n",
       "min         0.000000       0.000000  0.000000e+00  0.000000e+00       0.000000\n",
       "25%       998.000000       1.000000  2.134350e+05  2.133151e+05       0.000000\n",
       "50%      1197.000000       3.000000  3.561160e+05  3.560120e+05       0.000000\n",
       "75%      1248.000000       6.000000  5.827500e+05  5.825380e+05       0.000000\n",
       "max      6592.000000      32.000000  7.099248e+07  7.099248e+07      13.000000"
      ]
     },
     "execution_count": 9,
     "metadata": {},
     "output_type": "execute_result"
    }
   ],
   "source": [
    "df.describe()"
   ]
  },
  {
   "cell_type": "markdown",
   "id": "72f039a1",
   "metadata": {},
   "source": [
    "Analysis\n",
    "\n",
    "- Descriptive statistics works only for continuous data."
   ]
  },
  {
   "cell_type": "code",
   "execution_count": 10,
   "id": "c888e7a9",
   "metadata": {
    "ExecuteTime": {
     "end_time": "2024-06-11T17:34:05.702300Z",
     "start_time": "2024-06-11T17:34:01.870832Z"
    }
   },
   "outputs": [
    {
     "name": "stderr",
     "output_type": "stream",
     "text": [
      "C:\\Users\\kishmmm\\AppData\\Local\\Temp\\ipykernel_19612\\1665899112.py:1: FutureWarning: Dropping of nuisance columns in DataFrame reductions (with 'numeric_only=None') is deprecated; in a future version this will raise TypeError.  Select only valid columns before calling the reduction.\n",
      "  df.skew()\n"
     ]
    },
    {
     "data": {
      "text/plain": [
       "VEHICLE_CC       2.228773\n",
       "VEHICLE_AGE      1.038272\n",
       "AIDV            17.467074\n",
       "IDV             17.650669\n",
       "Total_Claims     2.712585\n",
       "dtype: float64"
      ]
     },
     "execution_count": 10,
     "metadata": {},
     "output_type": "execute_result"
    }
   ],
   "source": [
    "df.skew()"
   ]
  },
  {
   "cell_type": "markdown",
   "id": "ec7dc0c1",
   "metadata": {
    "ExecuteTime": {
     "end_time": "2024-06-07T18:04:42.976950Z",
     "start_time": "2024-06-07T18:04:42.957559Z"
    }
   },
   "source": [
    "Analysis:\n",
    "    \n",
    "   - Here all the values are above 1 which means they all are highly positively skewed,(i.e. mean is greater than median)\n",
    "   - Due to the presence of the outliers the data gets skewed. "
   ]
  },
  {
   "cell_type": "code",
   "execution_count": 11,
   "id": "a3e5255e",
   "metadata": {
    "ExecuteTime": {
     "end_time": "2024-06-11T17:34:08.015578Z",
     "start_time": "2024-06-11T17:34:05.706306Z"
    }
   },
   "outputs": [
    {
     "name": "stderr",
     "output_type": "stream",
     "text": [
      "C:\\Users\\kishmmm\\AppData\\Local\\Temp\\ipykernel_19612\\1257127604.py:1: FutureWarning: Dropping of nuisance columns in DataFrame reductions (with 'numeric_only=None') is deprecated; in a future version this will raise TypeError.  Select only valid columns before calling the reduction.\n",
      "  df.kurt()\n"
     ]
    },
    {
     "data": {
      "text/plain": [
       "VEHICLE_CC         8.188326\n",
       "VEHICLE_AGE        0.660465\n",
       "AIDV            1050.273889\n",
       "IDV             1059.572854\n",
       "Total_Claims      10.672108\n",
       "dtype: float64"
      ]
     },
     "execution_count": 11,
     "metadata": {},
     "output_type": "execute_result"
    }
   ],
   "source": [
    "df.kurt()"
   ]
  },
  {
   "cell_type": "markdown",
   "id": "e81a2ebb",
   "metadata": {},
   "source": [
    "Analysis\n",
    "\n",
    "- Here vehicle_age is only having value in the range of zero.\n",
    "- Other attributes having value more than 1, which suggests that the data points are more peaked or concentrated around the mean compared to normal distribution."
   ]
  },
  {
   "cell_type": "markdown",
   "id": "a280c9c6",
   "metadata": {},
   "source": [
    "### Outliers Detection technique"
   ]
  },
  {
   "cell_type": "code",
   "execution_count": 12,
   "id": "cf33b384",
   "metadata": {
    "ExecuteTime": {
     "end_time": "2024-06-11T17:34:14.492444Z",
     "start_time": "2024-06-11T17:34:08.019369Z"
    }
   },
   "outputs": [
    {
     "data": {
      "text/plain": [
       "<AxesSubplot:>"
      ]
     },
     "execution_count": 12,
     "metadata": {},
     "output_type": "execute_result"
    },
    {
     "data": {
      "image/png": "[encoded data removed]",
      "text/plain": [
       "<Figure size 432x288 with 1 Axes>"
      ]
     },
     "metadata": {
      "needs_background": "light"
     },
     "output_type": "display_data"
    }
   ],
   "source": [
    "df.boxplot(vert=True)"
   ]
  },
  {
   "cell_type": "markdown",
   "id": "670535d9",
   "metadata": {},
   "source": [
    "Analysis\n",
    "\n",
    "- It shows how the data is distributed and shows the presence of any outliers."
   ]
  },
  {
   "cell_type": "code",
   "execution_count": 13,
   "id": "04134ce3",
   "metadata": {
    "ExecuteTime": {
     "end_time": "2024-06-11T17:34:14.964778Z",
     "start_time": "2024-06-11T17:34:14.495886Z"
    }
   },
   "outputs": [
    {
     "name": "stderr",
     "output_type": "stream",
     "text": [
      "C:\\Users\\kishmmm\\Anaconda3\\lib\\site-packages\\seaborn\\_decorators.py:36: FutureWarning: Pass the following variable as a keyword arg: x. From version 0.12, the only valid positional argument will be `data`, and passing other arguments without an explicit keyword will result in an error or misinterpretation.\n",
      "  warnings.warn(\n"
     ]
    },
    {
     "data": {
      "text/plain": [
       "<AxesSubplot:xlabel='VEHICLE_CC'>"
      ]
     },
     "execution_count": 13,
     "metadata": {},
     "output_type": "execute_result"
    },
    {
     "data": {
      "image/png": "[encoded data removed]",
      "text/plain": [
       "<Figure size 720x432 with 1 Axes>"
      ]
     },
     "metadata": {
      "needs_background": "light"
     },
     "output_type": "display_data"
    }
   ],
   "source": [
    "plt.figure(figsize = (10,6))      \n",
    "sns.boxplot(df['VEHICLE_CC'])\n",
    "# this is the boxplot technique to detect outliers "
   ]
  },
  {
   "cell_type": "code",
   "execution_count": 14,
   "id": "60f7be33",
   "metadata": {
    "ExecuteTime": {
     "end_time": "2024-06-11T17:34:15.208679Z",
     "start_time": "2024-06-11T17:34:14.967639Z"
    }
   },
   "outputs": [
    {
     "name": "stderr",
     "output_type": "stream",
     "text": [
      "C:\\Users\\kishmmm\\Anaconda3\\lib\\site-packages\\seaborn\\_decorators.py:36: FutureWarning: Pass the following variable as a keyword arg: x. From version 0.12, the only valid positional argument will be `data`, and passing other arguments without an explicit keyword will result in an error or misinterpretation.\n",
      "  warnings.warn(\n"
     ]
    },
    {
     "data": {
      "text/plain": [
       "<AxesSubplot:xlabel='VEHICLE_AGE'>"
      ]
     },
     "execution_count": 14,
     "metadata": {},
     "output_type": "execute_result"
    },
    {
     "data": {
      "image/png": "[encoded data removed]",
      "text/plain": [
       "<Figure size 720x432 with 1 Axes>"
      ]
     },
     "metadata": {
      "needs_background": "light"
     },
     "output_type": "display_data"
    }
   ],
   "source": [
    "plt.figure(figsize = (10,6))      \n",
    "sns.boxplot(df['VEHICLE_AGE'])"
   ]
  },
  {
   "cell_type": "code",
   "execution_count": 15,
   "id": "120be894",
   "metadata": {
    "ExecuteTime": {
     "end_time": "2024-06-11T17:34:15.455580Z",
     "start_time": "2024-06-11T17:34:15.213041Z"
    },
    "scrolled": true
   },
   "outputs": [
    {
     "name": "stderr",
     "output_type": "stream",
     "text": [
      "C:\\Users\\kishmmm\\Anaconda3\\lib\\site-packages\\seaborn\\_decorators.py:36: FutureWarning: Pass the following variable as a keyword arg: x. From version 0.12, the only valid positional argument will be `data`, and passing other arguments without an explicit keyword will result in an error or misinterpretation.\n",
      "  warnings.warn(\n"
     ]
    },
    {
     "data": {
      "text/plain": [
       "<AxesSubplot:xlabel='IDV'>"
      ]
     },
     "execution_count": 15,
     "metadata": {},
     "output_type": "execute_result"
    },
    {
     "data": {
      "image/png": "[encoded data removed]",
      "text/plain": [
       "<Figure size 720x432 with 1 Axes>"
      ]
     },
     "metadata": {
      "needs_background": "light"
     },
     "output_type": "display_data"
    }
   ],
   "source": [
    "plt.figure(figsize = (10,6))      \n",
    "sns.boxplot(df['IDV'])"
   ]
  },
  {
   "cell_type": "markdown",
   "id": "9160fb47",
   "metadata": {},
   "source": [
    "## Data Visualization"
   ]
  },
  {
   "cell_type": "markdown",
   "id": "f723046b",
   "metadata": {},
   "source": [
    "### Pie chart\n",
    "\n",
    "- It is a circular chart which is divided into slices and is used to view and compare categorical column."
   ]
  },
  {
   "cell_type": "code",
   "execution_count": 16,
   "id": "17b87bb8",
   "metadata": {
    "ExecuteTime": {
     "end_time": "2024-06-11T17:34:15.541144Z",
     "start_time": "2024-06-11T17:34:15.458285Z"
    }
   },
   "outputs": [
    {
     "data": {
      "text/plain": [
       "array(['DIESEL', 'PETROL', 'INBUILT', 'ELECTRIC'], dtype=object)"
      ]
     },
     "execution_count": 16,
     "metadata": {},
     "output_type": "execute_result"
    }
   ],
   "source": [
    "df['FUELTYPE'].unique()"
   ]
  },
  {
   "cell_type": "code",
   "execution_count": 17,
   "id": "fb190017",
   "metadata": {
    "ExecuteTime": {
     "end_time": "2024-06-11T17:34:15.636757Z",
     "start_time": "2024-06-11T17:34:15.543395Z"
    }
   },
   "outputs": [
    {
     "data": {
      "text/plain": [
       "PETROL      516541\n",
       "DIESEL      281452\n",
       "INBUILT      20047\n",
       "ELECTRIC       147\n",
       "Name: FUELTYPE, dtype: int64"
      ]
     },
     "execution_count": 17,
     "metadata": {},
     "output_type": "execute_result"
    }
   ],
   "source": [
    "df['FUELTYPE'].value_counts()"
   ]
  },
  {
   "cell_type": "code",
   "execution_count": 18,
   "id": "a98c2855",
   "metadata": {
    "ExecuteTime": {
     "end_time": "2024-06-11T17:34:15.864223Z",
     "start_time": "2024-06-11T17:34:15.639749Z"
    }
   },
   "outputs": [
    {
     "data": {
      "image/png": "[encoded data removed]",
      "text/plain": [
       "<Figure size 432x288 with 1 Axes>"
      ]
     },
     "metadata": {},
     "output_type": "display_data"
    }
   ],
   "source": [
    "plt.pie(df['FUELTYPE'].value_counts(),labels=['PETROL','DIESEL','INBUILT','ELECTRIC'],autopct='%.1f%%')\n",
    "plt.show()"
   ]
  },
  {
   "cell_type": "markdown",
   "id": "a5161d93",
   "metadata": {},
   "source": [
    "### Bar chart\n",
    "\n",
    "- a bar graph is used to visualize a categorical column with more than 3 unique values"
   ]
  },
  {
   "cell_type": "code",
   "execution_count": 19,
   "id": "05618c8d",
   "metadata": {
    "ExecuteTime": {
     "end_time": "2024-06-11T17:34:15.946413Z",
     "start_time": "2024-06-11T17:34:15.867872Z"
    }
   },
   "outputs": [
    {
     "data": {
      "text/plain": [
       "GUJARAT               123295\n",
       "TAMILNADU             108704\n",
       "KARNATAKA              95856\n",
       "AP&TELANGANA           91548\n",
       "MAHARASHTRA            85484\n",
       "KERALA                 54171\n",
       "UTTAR PRADESH          39774\n",
       "WEST BENGAL            37996\n",
       "HARYANA                28985\n",
       "DELHI                  21709\n",
       "RAJASTHAN              20237\n",
       "JHARKHAND              19723\n",
       "MADHYA PRADESH         16436\n",
       "UTTARAKHAND            14190\n",
       "ORISSA                 12089\n",
       "PUNJAB                 11436\n",
       "HIMACHAL PRADESH       10955\n",
       "BIHAR                   5327\n",
       "CHATTISGARH             5129\n",
       "JAMMU KASHMIR           4048\n",
       "PONDICHERRY             3319\n",
       "ASSAM                   3117\n",
       "GOA                     2194\n",
       "CHANDIGARH              1591\n",
       "SIKKIM                   235\n",
       "DADRA NAGAR HAVELI       203\n",
       "DAMAN   DIU              127\n",
       "MEGHALAYA                113\n",
       "MIZORAM                  108\n",
       "TRIPURA                   27\n",
       "ARUNACHAL PRADESH         21\n",
       "ANDAMAN NICOBAR           19\n",
       "NAGALAND                  10\n",
       "MANIPUR                   10\n",
       "LAKSHWADWEEP               1\n",
       "Name: STATE, dtype: int64"
      ]
     },
     "execution_count": 19,
     "metadata": {},
     "output_type": "execute_result"
    }
   ],
   "source": [
    "df['STATE'].value_counts()"
   ]
  },
  {
   "cell_type": "code",
   "execution_count": 20,
   "id": "9a80bff2",
   "metadata": {
    "ExecuteTime": {
     "end_time": "2024-06-11T17:34:16.041311Z",
     "start_time": "2024-06-11T17:34:15.951692Z"
    }
   },
   "outputs": [],
   "source": [
    "state_value_count = df['STATE'].value_counts()"
   ]
  },
  {
   "cell_type": "code",
   "execution_count": 21,
   "id": "780253e7",
   "metadata": {
    "ExecuteTime": {
     "end_time": "2024-06-11T17:34:16.579564Z",
     "start_time": "2024-06-11T17:34:16.045486Z"
    }
   },
   "outputs": [
    {
     "data": {
      "text/plain": [
       "<BarContainer object of 35 artists>"
      ]
     },
     "execution_count": 21,
     "metadata": {},
     "output_type": "execute_result"
    },
    {
     "data": {
      "image/png": "[encoded data removed]",
      "text/plain": [
       "<Figure size 2520x720 with 1 Axes>"
      ]
     },
     "metadata": {
      "needs_background": "light"
     },
     "output_type": "display_data"
    }
   ],
   "source": [
    "plt.figure(figsize=(35,10))  \n",
    "plt.bar(state_value_count.index,state_value_count.values) "
   ]
  },
  {
   "cell_type": "markdown",
   "id": "2a2cce65",
   "metadata": {},
   "source": [
    "Viewing Top 10 states"
   ]
  },
  {
   "cell_type": "code",
   "execution_count": 22,
   "id": "b8179ee2",
   "metadata": {
    "ExecuteTime": {
     "end_time": "2024-06-11T17:34:16.908663Z",
     "start_time": "2024-06-11T17:34:16.585995Z"
    }
   },
   "outputs": [
    {
     "data": {
      "text/plain": [
       "<BarContainer object of 10 artists>"
      ]
     },
     "execution_count": 22,
     "metadata": {},
     "output_type": "execute_result"
    },
    {
     "data": {
      "image/png": "[encoded data removed]",
      "text/plain": [
       "<Figure size 1080x360 with 1 Axes>"
      ]
     },
     "metadata": {
      "needs_background": "light"
     },
     "output_type": "display_data"
    }
   ],
   "source": [
    "plt.figure(figsize=(15,5))  \n",
    "plt.bar(state_value_count[:10].index,state_value_count[:10].values) "
   ]
  },
  {
   "cell_type": "markdown",
   "id": "fd8f9650",
   "metadata": {},
   "source": [
    "#### Correlation table"
   ]
  },
  {
   "cell_type": "code",
   "execution_count": 23,
   "id": "ac545f93",
   "metadata": {
    "ExecuteTime": {
     "end_time": "2024-06-11T17:34:17.563768Z",
     "start_time": "2024-06-11T17:34:16.911986Z"
    }
   },
   "outputs": [
    {
     "data": {
      "text/plain": [
       "<AxesSubplot:>"
      ]
     },
     "execution_count": 23,
     "metadata": {},
     "output_type": "execute_result"
    },
    {
     "data": {
      "image/png": "[encoded data removed]",
      "text/plain": [
       "<Figure size 576x576 with 2 Axes>"
      ]
     },
     "metadata": {
      "needs_background": "light"
     },
     "output_type": "display_data"
    }
   ],
   "source": [
    "plt.figure(figsize = (8,8))\n",
    "sns.heatmap(df.corr(), annot = True, linewidth = 0.2)"
   ]
  },
  {
   "cell_type": "markdown",
   "id": "dbbfab17",
   "metadata": {},
   "source": [
    "## Feature Selection\n",
    "\n",
    "- It is the process of selecting the relevant( or eliminating unwanted) features from the dataset, so that we can improve our model performance"
   ]
  },
  {
   "cell_type": "code",
   "execution_count": 24,
   "id": "8d4d7c53",
   "metadata": {
    "ExecuteTime": {
     "end_time": "2024-06-11T17:34:17.579492Z",
     "start_time": "2024-06-11T17:34:17.566762Z"
    }
   },
   "outputs": [],
   "source": [
    "col_to_drop = ['POLICY_ID','PRODUCT_CODE','INCEPTION_DATE','EXPIRY_DATE','CATEGORY','CHANNEL','SUB_CHANNEL','MAKE','MODELGROUP','STATE','CITY','Nill_Dep_Flag','NCB_Flag']"
   ]
  },
  {
   "cell_type": "code",
   "execution_count": 25,
   "id": "43546023",
   "metadata": {
    "ExecuteTime": {
     "end_time": "2024-06-11T17:34:17.663238Z",
     "start_time": "2024-06-11T17:34:17.583487Z"
    }
   },
   "outputs": [],
   "source": [
    "DF = df.drop(col_to_drop,axis=1)"
   ]
  },
  {
   "cell_type": "code",
   "execution_count": 26,
   "id": "7590ff72",
   "metadata": {
    "ExecuteTime": {
     "end_time": "2024-06-11T17:34:17.679689Z",
     "start_time": "2024-06-11T17:34:17.667230Z"
    }
   },
   "outputs": [
    {
     "data": {
      "text/plain": [
       "Index(['BUSINESS_TYPE', 'VEHICLE_CC', 'VEHICLE_AGE', 'MODELCLASSIFICATION',\n",
       "       'FUELTYPE', 'BREAKIN_INSURANCE_FLAG', 'AIDV', 'IDV', 'Total_Claims'],\n",
       "      dtype='object')"
      ]
     },
     "execution_count": 26,
     "metadata": {},
     "output_type": "execute_result"
    }
   ],
   "source": [
    "DF.columns"
   ]
  },
  {
   "cell_type": "markdown",
   "id": "432a8e68",
   "metadata": {},
   "source": [
    "## Data Preprocessing"
   ]
  },
  {
   "cell_type": "markdown",
   "id": "3c18c94d",
   "metadata": {},
   "source": [
    "### Encoding Techniques\n",
    "\n",
    "- Here we are converting categorical variables into numerical format."
   ]
  },
  {
   "cell_type": "markdown",
   "id": "46133459",
   "metadata": {},
   "source": [
    "#### Label Encoding\n",
    "\n",
    "- It is used for ordinal data where some kind of sequence exists. "
   ]
  },
  {
   "cell_type": "code",
   "execution_count": 27,
   "id": "13c56973",
   "metadata": {
    "ExecuteTime": {
     "end_time": "2024-06-11T17:34:18.162287Z",
     "start_time": "2024-06-11T17:34:17.692639Z"
    }
   },
   "outputs": [],
   "source": [
    "labelencoder = LabelEncoder()\n",
    "DF['BREAKIN_INSURANCE_FLAG'] = labelencoder.fit_transform(df['BREAKIN_INSURANCE_FLAG'])\n",
    "DF['MODELCLASSIFICATION'] = labelencoder.fit_transform(df['MODELCLASSIFICATION'])"
   ]
  },
  {
   "cell_type": "markdown",
   "id": "422fea45",
   "metadata": {},
   "source": [
    "#### One Hot Encoding\n",
    "\n",
    "- It is used for nominal data where it treat each category as independent one which does not follow any sequence or order."
   ]
  },
  {
   "cell_type": "code",
   "execution_count": 28,
   "id": "c1cd4a25",
   "metadata": {
    "ExecuteTime": {
     "end_time": "2024-06-11T17:34:18.258014Z",
     "start_time": "2024-06-11T17:34:18.166024Z"
    }
   },
   "outputs": [],
   "source": [
    "DF['BUSINESS_TYPE'] = DF['BUSINESS_TYPE'].map({'New':1,'Renewal':2,'Roll-Over':3})"
   ]
  },
  {
   "cell_type": "code",
   "execution_count": 29,
   "id": "00a93080",
   "metadata": {
    "ExecuteTime": {
     "end_time": "2024-06-11T17:34:18.445321Z",
     "start_time": "2024-06-11T17:34:18.261325Z"
    }
   },
   "outputs": [],
   "source": [
    "DF = pd.get_dummies(DF,columns = ['BUSINESS_TYPE'])"
   ]
  },
  {
   "cell_type": "code",
   "execution_count": 30,
   "id": "dc193862",
   "metadata": {
    "ExecuteTime": {
     "end_time": "2024-06-11T17:34:18.525930Z",
     "start_time": "2024-06-11T17:34:18.448645Z"
    }
   },
   "outputs": [],
   "source": [
    "DF['FUELTYPE'] = DF['FUELTYPE'].map({'DIESEL':1,'ELECTRIC':2,'INBUILT':3,'PETROL':4})"
   ]
  },
  {
   "cell_type": "code",
   "execution_count": 31,
   "id": "13188792",
   "metadata": {
    "ExecuteTime": {
     "end_time": "2024-06-11T17:34:18.678322Z",
     "start_time": "2024-06-11T17:34:18.529036Z"
    }
   },
   "outputs": [],
   "source": [
    "DF = pd.get_dummies(DF,columns = ['FUELTYPE'])"
   ]
  },
  {
   "cell_type": "code",
   "execution_count": 32,
   "id": "2f52363b",
   "metadata": {
    "ExecuteTime": {
     "end_time": "2024-06-11T17:34:18.709363Z",
     "start_time": "2024-06-11T17:34:18.682310Z"
    }
   },
   "outputs": [
    {
     "data": {
      "text/html": [
       "<div>\n",
       "<style scoped>\n",
       "    .dataframe tbody tr th:only-of-type {\n",
       "        vertical-align: middle;\n",
       "    }\n",
       "\n",
       "    .dataframe tbody tr th {\n",
       "        vertical-align: top;\n",
       "    }\n",
       "\n",
       "    .dataframe thead th {\n",
       "        text-align: right;\n",
       "    }\n",
       "</style>\n",
       "<table border=\"1\" class=\"dataframe\">\n",
       "  <thead>\n",
       "    <tr style=\"text-align: right;\">\n",
       "      <th></th>\n",
       "      <th>VEHICLE_CC</th>\n",
       "      <th>VEHICLE_AGE</th>\n",
       "      <th>MODELCLASSIFICATION</th>\n",
       "      <th>BREAKIN_INSURANCE_FLAG</th>\n",
       "      <th>AIDV</th>\n",
       "      <th>IDV</th>\n",
       "      <th>Total_Claims</th>\n",
       "      <th>BUSINESS_TYPE_1</th>\n",
       "      <th>BUSINESS_TYPE_2</th>\n",
       "      <th>BUSINESS_TYPE_3</th>\n",
       "      <th>FUELTYPE_1</th>\n",
       "      <th>FUELTYPE_2</th>\n",
       "      <th>FUELTYPE_3</th>\n",
       "      <th>FUELTYPE_4</th>\n",
       "    </tr>\n",
       "  </thead>\n",
       "  <tbody>\n",
       "    <tr>\n",
       "      <th>0</th>\n",
       "      <td>2393</td>\n",
       "      <td>2</td>\n",
       "      <td>1</td>\n",
       "      <td>0</td>\n",
       "      <td>1434960.0</td>\n",
       "      <td>1434960.0</td>\n",
       "      <td>1</td>\n",
       "      <td>0</td>\n",
       "      <td>0</td>\n",
       "      <td>1</td>\n",
       "      <td>1</td>\n",
       "      <td>0</td>\n",
       "      <td>0</td>\n",
       "      <td>0</td>\n",
       "    </tr>\n",
       "    <tr>\n",
       "      <th>1</th>\n",
       "      <td>796</td>\n",
       "      <td>5</td>\n",
       "      <td>1</td>\n",
       "      <td>0</td>\n",
       "      <td>170000.0</td>\n",
       "      <td>170000.0</td>\n",
       "      <td>0</td>\n",
       "      <td>0</td>\n",
       "      <td>1</td>\n",
       "      <td>0</td>\n",
       "      <td>0</td>\n",
       "      <td>0</td>\n",
       "      <td>0</td>\n",
       "      <td>1</td>\n",
       "    </tr>\n",
       "    <tr>\n",
       "      <th>2</th>\n",
       "      <td>1461</td>\n",
       "      <td>0</td>\n",
       "      <td>1</td>\n",
       "      <td>0</td>\n",
       "      <td>1261452.0</td>\n",
       "      <td>1261452.0</td>\n",
       "      <td>0</td>\n",
       "      <td>1</td>\n",
       "      <td>0</td>\n",
       "      <td>0</td>\n",
       "      <td>1</td>\n",
       "      <td>0</td>\n",
       "      <td>0</td>\n",
       "      <td>0</td>\n",
       "    </tr>\n",
       "    <tr>\n",
       "      <th>3</th>\n",
       "      <td>2523</td>\n",
       "      <td>6</td>\n",
       "      <td>1</td>\n",
       "      <td>0</td>\n",
       "      <td>350000.0</td>\n",
       "      <td>350000.0</td>\n",
       "      <td>0</td>\n",
       "      <td>0</td>\n",
       "      <td>1</td>\n",
       "      <td>0</td>\n",
       "      <td>1</td>\n",
       "      <td>0</td>\n",
       "      <td>0</td>\n",
       "      <td>0</td>\n",
       "    </tr>\n",
       "    <tr>\n",
       "      <th>4</th>\n",
       "      <td>1197</td>\n",
       "      <td>8</td>\n",
       "      <td>1</td>\n",
       "      <td>0</td>\n",
       "      <td>213216.0</td>\n",
       "      <td>213216.0</td>\n",
       "      <td>0</td>\n",
       "      <td>0</td>\n",
       "      <td>1</td>\n",
       "      <td>0</td>\n",
       "      <td>0</td>\n",
       "      <td>0</td>\n",
       "      <td>0</td>\n",
       "      <td>1</td>\n",
       "    </tr>\n",
       "  </tbody>\n",
       "</table>\n",
       "</div>"
      ],
      "text/plain": [
       "   VEHICLE_CC  VEHICLE_AGE  MODELCLASSIFICATION  BREAKIN_INSURANCE_FLAG  \\\n",
       "0        2393            2                    1                       0   \n",
       "1         796            5                    1                       0   \n",
       "2        1461            0                    1                       0   \n",
       "3        2523            6                    1                       0   \n",
       "4        1197            8                    1                       0   \n",
       "\n",
       "        AIDV        IDV  Total_Claims  BUSINESS_TYPE_1  BUSINESS_TYPE_2  \\\n",
       "0  1434960.0  1434960.0             1                0                0   \n",
       "1   170000.0   170000.0             0                0                1   \n",
       "2  1261452.0  1261452.0             0                1                0   \n",
       "3   350000.0   350000.0             0                0                1   \n",
       "4   213216.0   213216.0             0                0                1   \n",
       "\n",
       "   BUSINESS_TYPE_3  FUELTYPE_1  FUELTYPE_2  FUELTYPE_3  FUELTYPE_4  \n",
       "0                1           1           0           0           0  \n",
       "1                0           0           0           0           1  \n",
       "2                0           1           0           0           0  \n",
       "3                0           1           0           0           0  \n",
       "4                0           0           0           0           1  "
      ]
     },
     "execution_count": 32,
     "metadata": {},
     "output_type": "execute_result"
    }
   ],
   "source": [
    "DF.head()"
   ]
  },
  {
   "cell_type": "markdown",
   "id": "ca743067",
   "metadata": {},
   "source": [
    "### Outliers Treatment"
   ]
  },
  {
   "cell_type": "code",
   "execution_count": 33,
   "id": "cb5426c7",
   "metadata": {
    "ExecuteTime": {
     "end_time": "2024-06-11T17:34:18.734629Z",
     "start_time": "2024-06-11T17:34:18.714267Z"
    }
   },
   "outputs": [],
   "source": [
    "def replace_outlier(mydf,col):\n",
    "    Q1 = mydf[col].quantile(0.25)  \n",
    "    Q2 = mydf[col].quantile(0.50)\n",
    "    Q3 = mydf[col].quantile(0.75)\n",
    "    IQR = Q3 - Q1\n",
    "    LW = Q1 - 1.5 * IQR\n",
    "    UW = Q3 + 1.5 * IQR   \n",
    "    mydf.loc[(mydf[col] < LW),col] = Q1     \n",
    "    mydf.loc[(mydf[col] > UW),col] = Q3     \n",
    "    return mydf"
   ]
  },
  {
   "cell_type": "code",
   "execution_count": 34,
   "id": "4a6519ce",
   "metadata": {
    "ExecuteTime": {
     "end_time": "2024-06-11T17:34:18.808812Z",
     "start_time": "2024-06-11T17:34:18.738626Z"
    }
   },
   "outputs": [],
   "source": [
    "DF = replace_outlier(DF,'VEHICLE_CC')"
   ]
  },
  {
   "cell_type": "code",
   "execution_count": 35,
   "id": "9f44fe66",
   "metadata": {
    "ExecuteTime": {
     "end_time": "2024-06-11T17:34:18.891900Z",
     "start_time": "2024-06-11T17:34:18.812512Z"
    }
   },
   "outputs": [],
   "source": [
    "DF = replace_outlier(DF,'VEHICLE_AGE')"
   ]
  },
  {
   "cell_type": "code",
   "execution_count": 36,
   "id": "9ab7d4db",
   "metadata": {
    "ExecuteTime": {
     "end_time": "2024-06-11T17:34:18.973788Z",
     "start_time": "2024-06-11T17:34:18.895552Z"
    }
   },
   "outputs": [],
   "source": [
    "DF = replace_outlier(DF,'IDV')"
   ]
  },
  {
   "cell_type": "code",
   "execution_count": 37,
   "id": "5b5e7f43",
   "metadata": {
    "ExecuteTime": {
     "end_time": "2024-06-11T17:34:19.045875Z",
     "start_time": "2024-06-11T17:34:18.977809Z"
    }
   },
   "outputs": [],
   "source": [
    "DF = replace_outlier(DF,'AIDV')"
   ]
  },
  {
   "cell_type": "code",
   "execution_count": 38,
   "id": "9aae22c2",
   "metadata": {
    "ExecuteTime": {
     "end_time": "2024-06-11T17:34:19.293893Z",
     "start_time": "2024-06-11T17:34:19.049881Z"
    }
   },
   "outputs": [
    {
     "name": "stderr",
     "output_type": "stream",
     "text": [
      "C:\\Users\\kishmmm\\Anaconda3\\lib\\site-packages\\seaborn\\_decorators.py:36: FutureWarning: Pass the following variable as a keyword arg: x. From version 0.12, the only valid positional argument will be `data`, and passing other arguments without an explicit keyword will result in an error or misinterpretation.\n",
      "  warnings.warn(\n"
     ]
    },
    {
     "data": {
      "text/plain": [
       "<AxesSubplot:xlabel='VEHICLE_CC'>"
      ]
     },
     "execution_count": 38,
     "metadata": {},
     "output_type": "execute_result"
    },
    {
     "data": {
      "image/png": "[encoded data removed]",
      "text/plain": [
       "<Figure size 720x432 with 1 Axes>"
      ]
     },
     "metadata": {
      "needs_background": "light"
     },
     "output_type": "display_data"
    }
   ],
   "source": [
    "plt.figure(figsize = (10,6))      \n",
    "sns.boxplot(DF['VEHICLE_CC'])"
   ]
  },
  {
   "cell_type": "code",
   "execution_count": 39,
   "id": "ae459f9c",
   "metadata": {
    "ExecuteTime": {
     "end_time": "2024-06-11T17:34:19.551871Z",
     "start_time": "2024-06-11T17:34:19.298594Z"
    }
   },
   "outputs": [
    {
     "name": "stderr",
     "output_type": "stream",
     "text": [
      "C:\\Users\\kishmmm\\Anaconda3\\lib\\site-packages\\seaborn\\_decorators.py:36: FutureWarning: Pass the following variable as a keyword arg: x. From version 0.12, the only valid positional argument will be `data`, and passing other arguments without an explicit keyword will result in an error or misinterpretation.\n",
      "  warnings.warn(\n"
     ]
    },
    {
     "data": {
      "text/plain": [
       "<AxesSubplot:xlabel='VEHICLE_AGE'>"
      ]
     },
     "execution_count": 39,
     "metadata": {},
     "output_type": "execute_result"
    },
    {
     "data": {
      "image/png": "[encoded data removed]",
      "text/plain": [
       "<Figure size 720x432 with 1 Axes>"
      ]
     },
     "metadata": {
      "needs_background": "light"
     },
     "output_type": "display_data"
    }
   ],
   "source": [
    "plt.figure(figsize = (10,6))      \n",
    "sns.boxplot(DF['VEHICLE_AGE'])"
   ]
  },
  {
   "cell_type": "code",
   "execution_count": 40,
   "id": "86723c40",
   "metadata": {
    "ExecuteTime": {
     "end_time": "2024-06-11T17:34:19.815119Z",
     "start_time": "2024-06-11T17:34:19.556773Z"
    }
   },
   "outputs": [
    {
     "name": "stderr",
     "output_type": "stream",
     "text": [
      "C:\\Users\\kishmmm\\Anaconda3\\lib\\site-packages\\seaborn\\_decorators.py:36: FutureWarning: Pass the following variable as a keyword arg: x. From version 0.12, the only valid positional argument will be `data`, and passing other arguments without an explicit keyword will result in an error or misinterpretation.\n",
      "  warnings.warn(\n"
     ]
    },
    {
     "data": {
      "text/plain": [
       "<AxesSubplot:xlabel='IDV'>"
      ]
     },
     "execution_count": 40,
     "metadata": {},
     "output_type": "execute_result"
    },
    {
     "data": {
      "image/png": "[encoded data removed]",
      "text/plain": [
       "<Figure size 720x432 with 1 Axes>"
      ]
     },
     "metadata": {
      "needs_background": "light"
     },
     "output_type": "display_data"
    }
   ],
   "source": [
    "plt.figure(figsize = (10,6))      \n",
    "sns.boxplot(DF['IDV'])"
   ]
  },
  {
   "cell_type": "code",
   "execution_count": 41,
   "id": "33371f60",
   "metadata": {
    "ExecuteTime": {
     "end_time": "2024-06-11T17:34:20.078603Z",
     "start_time": "2024-06-11T17:34:19.819108Z"
    }
   },
   "outputs": [
    {
     "name": "stderr",
     "output_type": "stream",
     "text": [
      "C:\\Users\\kishmmm\\Anaconda3\\lib\\site-packages\\seaborn\\_decorators.py:36: FutureWarning: Pass the following variable as a keyword arg: x. From version 0.12, the only valid positional argument will be `data`, and passing other arguments without an explicit keyword will result in an error or misinterpretation.\n",
      "  warnings.warn(\n"
     ]
    },
    {
     "data": {
      "text/plain": [
       "<AxesSubplot:xlabel='AIDV'>"
      ]
     },
     "execution_count": 41,
     "metadata": {},
     "output_type": "execute_result"
    },
    {
     "data": {
      "image/png": "[encoded data removed]",
      "text/plain": [
       "<Figure size 720x432 with 1 Axes>"
      ]
     },
     "metadata": {
      "needs_background": "light"
     },
     "output_type": "display_data"
    }
   ],
   "source": [
    "plt.figure(figsize = (10,6))      \n",
    "sns.boxplot(DF['AIDV'])"
   ]
  },
  {
   "cell_type": "markdown",
   "id": "6d4785ea",
   "metadata": {},
   "source": [
    "### Train - Test split"
   ]
  },
  {
   "cell_type": "code",
   "execution_count": 42,
   "id": "b97f3364",
   "metadata": {
    "ExecuteTime": {
     "end_time": "2024-06-11T17:34:20.142335Z",
     "start_time": "2024-06-11T17:34:20.084789Z"
    }
   },
   "outputs": [],
   "source": [
    "x = DF.drop(['Total_Claims'],axis = 1)\n",
    "y = DF['Total_Claims']"
   ]
  },
  {
   "cell_type": "code",
   "execution_count": 43,
   "id": "9a020e28",
   "metadata": {
    "ExecuteTime": {
     "end_time": "2024-06-11T17:34:20.528019Z",
     "start_time": "2024-06-11T17:34:20.147066Z"
    }
   },
   "outputs": [],
   "source": [
    "x_train,x_test,y_train,y_test = train_test_split(x,y, test_size=0.3, random_state = 1)"
   ]
  },
  {
   "cell_type": "markdown",
   "id": "a61cca3f",
   "metadata": {},
   "source": [
    "## Model Building :\n",
    "\n",
    "1. Model object creation\n",
    "2. Model fitting\n",
    "3. Model prediction\n",
    "4. Model Evaluation"
   ]
  },
  {
   "cell_type": "code",
   "execution_count": 44,
   "id": "5935e535",
   "metadata": {
    "ExecuteTime": {
     "end_time": "2024-06-11T17:34:20.544004Z",
     "start_time": "2024-06-11T17:34:20.533407Z"
    }
   },
   "outputs": [],
   "source": [
    "model = DecisionTreeRegressor()"
   ]
  },
  {
   "cell_type": "code",
   "execution_count": 45,
   "id": "4d80564e",
   "metadata": {
    "ExecuteTime": {
     "end_time": "2024-06-11T17:34:27.952118Z",
     "start_time": "2024-06-11T17:34:20.550142Z"
    }
   },
   "outputs": [
    {
     "data": {
      "text/plain": [
       "DecisionTreeRegressor()"
      ]
     },
     "execution_count": 45,
     "metadata": {},
     "output_type": "execute_result"
    }
   ],
   "source": [
    "model.fit(x_train,y_train)"
   ]
  },
  {
   "cell_type": "code",
   "execution_count": 46,
   "id": "e34fe791",
   "metadata": {
    "ExecuteTime": {
     "end_time": "2024-06-11T17:34:28.208413Z",
     "start_time": "2024-06-11T17:34:27.954703Z"
    }
   },
   "outputs": [],
   "source": [
    "y_pred = model.predict(x_test)"
   ]
  },
  {
   "cell_type": "markdown",
   "id": "586e0ba7",
   "metadata": {},
   "source": [
    "#### Model Evaluation"
   ]
  },
  {
   "cell_type": "code",
   "execution_count": 47,
   "id": "145121c6",
   "metadata": {
    "ExecuteTime": {
     "end_time": "2024-06-11T17:34:28.241744Z",
     "start_time": "2024-06-11T17:34:28.211405Z"
    }
   },
   "outputs": [
    {
     "data": {
      "text/plain": [
       "-0.40658628069433345"
      ]
     },
     "execution_count": 47,
     "metadata": {},
     "output_type": "execute_result"
    }
   ],
   "source": [
    "r2_score(y_test,y_pred)"
   ]
  },
  {
   "cell_type": "code",
   "execution_count": 48,
   "id": "856c21f2",
   "metadata": {
    "ExecuteTime": {
     "end_time": "2024-06-11T17:34:28.257165Z",
     "start_time": "2024-06-11T17:34:28.245153Z"
    }
   },
   "outputs": [],
   "source": [
    "def model_builder (x,y,model_name):\n",
    "    x_train,x_test,y_train,y_test = train_test_split(x,y,test_size = 0.3,random_state = 1)\n",
    "    model = model_name()\n",
    "    model.fit(x_train,y_train)\n",
    "    y_pred = model.predict(x_test)\n",
    "    result = r2_score(y_test,y_pred)\n",
    "    return result"
   ]
  },
  {
   "cell_type": "code",
   "execution_count": 50,
   "id": "3204094e",
   "metadata": {
    "ExecuteTime": {
     "end_time": "2024-06-11T17:45:47.326522Z",
     "start_time": "2024-06-11T17:39:30.423421Z"
    }
   },
   "outputs": [
    {
     "data": {
      "text/plain": [
       "-0.13154450427508668"
      ]
     },
     "execution_count": 50,
     "metadata": {},
     "output_type": "execute_result"
    }
   ],
   "source": [
    "model_builder(x,y,RandomForestRegressor)"
   ]
  },
  {
   "cell_type": "code",
   "execution_count": 51,
   "id": "24699a4b",
   "metadata": {
    "ExecuteTime": {
     "end_time": "2024-06-11T17:47:15.976388Z",
     "start_time": "2024-06-11T17:47:15.226430Z"
    }
   },
   "outputs": [
    {
     "data": {
      "text/plain": [
       "0.03867284611358046"
      ]
     },
     "execution_count": 51,
     "metadata": {},
     "output_type": "execute_result"
    }
   ],
   "source": [
    "model_builder(x,y,LinearRegression)"
   ]
  },
  {
   "cell_type": "code",
   "execution_count": 52,
   "id": "d58e834f",
   "metadata": {
    "ExecuteTime": {
     "end_time": "2024-06-11T17:47:39.599138Z",
     "start_time": "2024-06-11T17:47:20.021220Z"
    }
   },
   "outputs": [
    {
     "data": {
      "text/plain": [
       "-0.12787893010984552"
      ]
     },
     "execution_count": 52,
     "metadata": {},
     "output_type": "execute_result"
    }
   ],
   "source": [
    "model_builder(x,y,KNeighborsRegressor)"
   ]
  },
  {
   "cell_type": "code",
   "execution_count": null,
   "id": "76a473e3",
   "metadata": {
    "ExecuteTime": {
     "end_time": "2024-06-11T17:39:23.977268Z",
     "start_time": "2024-06-11T17:39:23.977268Z"
    }
   },
   "outputs": [],
   "source": [
    "model_builder(x,y,XGBRegressor)"
   ]
  },
  {
   "cell_type": "code",
   "execution_count": null,
   "id": "a33c36a4",
   "metadata": {
    "ExecuteTime": {
     "end_time": "2024-06-11T17:39:23.979801Z",
     "start_time": "2024-06-11T17:39:23.979801Z"
    }
   },
   "outputs": [],
   "source": [
    "model_builder(x,y,GradientBoostingRegressor)"
   ]
  },
  {
   "cell_type": "markdown",
   "id": "8f0ba31f",
   "metadata": {},
   "source": [
    "Analysis\n",
    "\n",
    "- From the above models Linear Regression, XG boost and Grandient boost gives positive value and other models are in negative range."
   ]
  }
 ],
 "metadata": {
  "kernelspec": {
   "display_name": "Python 3 (ipykernel)",
   "language": "python",
   "name": "python3"
  },
  "language_info": {
   "codemirror_mode": {
    "name": "ipython",
    "version": 3
   },
   "file_extension": ".py",
   "mimetype": "text/x-python",
   "name": "python",
   "nbconvert_exporter": "python",
   "pygments_lexer": "ipython3",
   "version": "3.9.12"
  }
 },
 "nbformat": 4,
 "nbformat_minor": 5
}
